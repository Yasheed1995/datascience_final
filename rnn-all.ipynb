{
 "cells": [
  {
   "cell_type": "code",
   "execution_count": 1,
   "metadata": {
    "scrolled": true
   },
   "outputs": [
    {
     "name": "stderr",
     "output_type": "stream",
     "text": [
      "/usr/lib64/python3.6/site-packages/h5py/__init__.py:36: FutureWarning: Conversion of the second argument of issubdtype from `float` to `np.floating` is deprecated. In future, it will be treated as `np.float64 == np.dtype(float).type`.\n",
      "  from ._conv import register_converters as _register_converters\n",
      "Using TensorFlow backend.\n"
     ]
    }
   ],
   "source": [
    "import numpy as np\n",
    "from keras.models import Sequential\n",
    "from keras.layers import Embedding, LSTM, GRU, Dense, Dropout, Bidirectional, TimeDistributed, Flatten\n",
    "from keras.callbacks import EarlyStopping, ModelCheckpoint\n",
    "from sklearn.metrics import mean_squared_error"
   ]
  },
  {
   "cell_type": "code",
   "execution_count": 2,
   "metadata": {},
   "outputs": [],
   "source": [
    "import pickle"
   ]
  },
  {
   "cell_type": "code",
   "execution_count": 3,
   "metadata": {},
   "outputs": [],
   "source": [
    "epoch = 10\n",
    "batch = 256"
   ]
  },
  {
   "cell_type": "code",
   "execution_count": 5,
   "metadata": {},
   "outputs": [],
   "source": [
    "x_train = np.load('data/trainX_5.npy').astype(float)\n",
    "y_train = np.load('data/trainY_5.npy').astype(float)\n",
    "x_test = np.load('data/testX_5.npy').astype(float)\n",
    "y_test = np.load('data/testY_5.npy').astype(float)"
   ]
  },
  {
   "cell_type": "code",
   "execution_count": 6,
   "metadata": {},
   "outputs": [],
   "source": [
    "x_train1 = x_train[:, :, 0].reshape(-1, 5, 1)\n",
    "x_train2 = x_train[:, :, 2].reshape(-1, 5, 1)\n",
    "x_train1 = np.concatenate((x_train1, x_train2), axis = 2)\n",
    "\n",
    "mean_x = np.mean(x_train1, axis = 0)\n",
    "std_x = np.std(x_train1, axis = 0)\n",
    "x_1 = (x_train1 - mean_x) / std_x\n",
    "x_test1 = x_test[:, :, 0].reshape(-1, 5, 1)\n",
    "x_test2 = x_train[:, :, 2].reshape(-1, 5, 1)\n",
    "x_t1 = (x_test1 - mean_x) / std_x\n",
    "\n",
    "mean_y = np.mean(y_train)\n",
    "std_y = np.std(y_train)\n",
    "y = (y_train - mean_y) / std_y\n",
    "y_t1 = (y_test - mean_y) / std_y"
   ]
  },
  {
   "cell_type": "code",
   "execution_count": 7,
   "metadata": {},
   "outputs": [
    {
     "name": "stdout",
     "output_type": "stream",
     "text": [
      "Epoch 1/10\n",
      "197430/197430 [==============================] - 27s 139us/step - loss: 0.0270\n",
      "Epoch 2/10\n",
      "197430/197430 [==============================] - 27s 134us/step - loss: 0.0035\n",
      "Epoch 3/10\n",
      "197430/197430 [==============================] - 26s 134us/step - loss: 0.0034\n",
      "Epoch 4/10\n",
      "197430/197430 [==============================] - 27s 134us/step - loss: 0.0023\n",
      "Epoch 5/10\n",
      "197430/197430 [==============================] - 28s 142us/step - loss: 0.0022\n",
      "Epoch 6/10\n",
      "197430/197430 [==============================] - 26s 134us/step - loss: 0.0020\n",
      "Epoch 7/10\n",
      "197430/197430 [==============================] - 27s 134us/step - loss: 0.0023\n",
      "Epoch 8/10\n",
      "197430/197430 [==============================] - 27s 134us/step - loss: 0.0014\n",
      "Epoch 9/10\n",
      "197430/197430 [==============================] - 26s 134us/step - loss: 0.0012\n",
      "Epoch 10/10\n",
      "197430/197430 [==============================] - 27s 134us/step - loss: 0.0026\n",
      "21937/21937 [==============================] - 3s 140us/step\n"
     ]
    },
    {
     "data": {
      "text/plain": [
       "0.000825825383385287"
      ]
     },
     "execution_count": 7,
     "metadata": {},
     "output_type": "execute_result"
    }
   ],
   "source": [
    "# model1 \n",
    "model = Sequential()\n",
    "model.add(LSTM(256, input_shape=(5,2), return_sequences=True))\n",
    "model.add(LSTM(256, return_sequences=True))\n",
    "model.add(TimeDistributed(Dense(1)))\n",
    "model.add(Flatten())\n",
    "model.add(Dense(5,activation='linear'))\n",
    "model.add(Dense(1))\n",
    "model.compile(loss=\"mse\", optimizer=\"adam\")\n",
    "history = model.fit(x_1, y,batch_size = batch, epochs = 10)\n",
    "model.evaluate(x_t1, y_t1)"
   ]
  },
  {
   "cell_type": "code",
   "execution_count": 8,
   "metadata": {},
   "outputs": [
    {
     "name": "stdout",
     "output_type": "stream",
     "text": [
      "Epoch 1/10\n",
      "197430/197430 [==============================] - 30s 149us/step - loss: 0.0219\n",
      "Epoch 2/10\n",
      "197430/197430 [==============================] - 28s 144us/step - loss: 0.0110\n",
      "Epoch 3/10\n",
      "197430/197430 [==============================] - 28s 144us/step - loss: 0.0101\n",
      "Epoch 4/10\n",
      "197430/197430 [==============================] - 28s 144us/step - loss: 0.0116\n",
      "Epoch 5/10\n",
      "197430/197430 [==============================] - 28s 144us/step - loss: 0.0122\n",
      "Epoch 6/10\n",
      "197430/197430 [==============================] - 28s 144us/step - loss: 0.0104\n",
      "Epoch 7/10\n",
      "197430/197430 [==============================] - 28s 144us/step - loss: 0.0101\n",
      "Epoch 8/10\n",
      "197430/197430 [==============================] - 28s 144us/step - loss: 0.0094\n",
      "Epoch 9/10\n",
      "197430/197430 [==============================] - 28s 144us/step - loss: 0.0094\n",
      "Epoch 10/10\n",
      "197430/197430 [==============================] - 29s 144us/step - loss: 0.0088\n",
      "21937/21937 [==============================] - 3s 139us/step\n"
     ]
    },
    {
     "data": {
      "text/plain": [
       "0.005450953550033024"
      ]
     },
     "execution_count": 8,
     "metadata": {},
     "output_type": "execute_result"
    }
   ],
   "source": [
    "#model2 \n",
    "model2 = Sequential()\n",
    "model2.add(LSTM(256, return_sequences=True,input_shape=(5,2)))\n",
    "model2.add(Dropout(0.4))\n",
    "model2.add(LSTM(256))\n",
    "model2.add(Dropout(0.4))\n",
    "model2.add(Dense(1, activation='linear'))\n",
    "model2.compile(optimizer='adam',loss='mse')\n",
    "history2 = model2.fit(x_1, y,batch_size = batch, epochs = 10)\n",
    "model2.evaluate(x_t1, y_t1)"
   ]
  },
  {
   "cell_type": "code",
   "execution_count": 9,
   "metadata": {
    "scrolled": false
   },
   "outputs": [
    {
     "name": "stdout",
     "output_type": "stream",
     "text": [
      "Epoch 1/10\n",
      "197430/197430 [==============================] - 30s 151us/step - loss: 0.0476\n",
      "Epoch 2/10\n",
      "197430/197430 [==============================] - 29s 146us/step - loss: 0.0341\n",
      "Epoch 3/10\n",
      "197430/197430 [==============================] - 29s 147us/step - loss: 0.0341\n",
      "Epoch 4/10\n",
      "197430/197430 [==============================] - 29s 146us/step - loss: 0.0282\n",
      "Epoch 5/10\n",
      "197430/197430 [==============================] - 29s 146us/step - loss: 0.0283\n",
      "Epoch 6/10\n",
      "197430/197430 [==============================] - 29s 146us/step - loss: 0.0269\n",
      "Epoch 7/10\n",
      "197430/197430 [==============================] - 29s 146us/step - loss: 0.0280\n",
      "Epoch 8/10\n",
      "197430/197430 [==============================] - 29s 146us/step - loss: 0.0290\n",
      "Epoch 9/10\n",
      "197430/197430 [==============================] - 29s 147us/step - loss: 0.0297\n",
      "Epoch 10/10\n",
      "197430/197430 [==============================] - 29s 146us/step - loss: 0.0291\n",
      "21937/21937 [==============================] - 3s 143us/step\n"
     ]
    },
    {
     "data": {
      "text/plain": [
       "0.005013652541707576"
      ]
     },
     "execution_count": 9,
     "metadata": {},
     "output_type": "execute_result"
    }
   ],
   "source": [
    "#model3 (0.0047961149515735133)\n",
    "model3 = Sequential()\n",
    "model3.add(LSTM(256, return_sequences=True,input_shape=(5,2)))\n",
    "model3.add(Dropout(0.4))\n",
    "model3.add(LSTM(256))\n",
    "model3.add(Dropout(0.4))\n",
    "model3.add(Dense(64))\n",
    "model3.add(Dropout(0.4))\n",
    "model3.add(Dense(1, activation='linear'))\n",
    "model3.compile(optimizer='adam',loss='mse')#, metrics=['mse'])\n",
    "history3 = model3.fit(x_1, y,batch_size = batch, epochs = 10)\n",
    "model3.evaluate(x_t1, y_t1)"
   ]
  },
  {
   "cell_type": "code",
   "execution_count": null,
   "metadata": {},
   "outputs": [],
   "source": [
    "#y_pred = model.predict(x_t1)"
   ]
  },
  {
   "cell_type": "code",
   "execution_count": null,
   "metadata": {},
   "outputs": [],
   "source": [
    "# import pickle\n",
    "# with open('model1.pickle', 'wb') as handle: # saving the history of the model\n",
    "#     pickle.dump(history, handle)"
   ]
  }
 ],
 "metadata": {
  "kernelspec": {
   "display_name": "Python 3",
   "language": "python",
   "name": "python3"
  },
  "language_info": {
   "codemirror_mode": {
    "name": "ipython",
    "version": 3
   },
   "file_extension": ".py",
   "mimetype": "text/x-python",
   "name": "python",
   "nbconvert_exporter": "python",
   "pygments_lexer": "ipython3",
   "version": "3.6.3"
  }
 },
 "nbformat": 4,
 "nbformat_minor": 2
}
