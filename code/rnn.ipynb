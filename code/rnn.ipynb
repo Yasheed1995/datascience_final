{
 "cells": [
  {
   "cell_type": "code",
   "execution_count": 1,
   "metadata": {
    "scrolled": true
   },
   "outputs": [
    {
     "name": "stderr",
     "output_type": "stream",
     "text": [
      "/usr/lib64/python3.6/site-packages/h5py/__init__.py:36: FutureWarning: Conversion of the second argument of issubdtype from `float` to `np.floating` is deprecated. In future, it will be treated as `np.float64 == np.dtype(float).type`.\n",
      "  from ._conv import register_converters as _register_converters\n",
      "Using TensorFlow backend.\n"
     ]
    }
   ],
   "source": [
    "import numpy as np\n",
    "from keras.models import Sequential\n",
    "from keras.layers import Embedding, LSTM, GRU, Dense, Dropout, Bidirectional, TimeDistributed, Flatten\n",
    "from keras.callbacks import EarlyStopping, ModelCheckpoint\n",
    "from sklearn.metrics import mean_squared_error"
   ]
  },
  {
   "cell_type": "code",
   "execution_count": 2,
   "metadata": {},
   "outputs": [],
   "source": [
    "import sklearn.preprocessing as prep"
   ]
  },
  {
   "cell_type": "code",
   "execution_count": 3,
   "metadata": {},
   "outputs": [],
   "source": [
    "epoch = 10\n",
    "batch = 256"
   ]
  },
  {
   "cell_type": "code",
   "execution_count": 5,
   "metadata": {},
   "outputs": [],
   "source": [
    "x_train = np.load('../data/trainX_5_one_stock.npy').astype(float)\n",
    "y_train= np.load('../data/trainY_5_one_stock.npy').astype(float)\n",
    "x_test = np.load('../data/testX_5_one_stock.npy').astype(float)\n",
    "y_test = np.load('../data/testY_5_one_stock.npy').astype(float)"
   ]
  },
  {
   "cell_type": "code",
   "execution_count": 6,
   "metadata": {},
   "outputs": [],
   "source": [
    "x_train1 = x_train[:, :, 0].reshape(-1, 5, 1)\n",
    "x_train2 = x_train[:, :, 2].reshape(-1, 5, 1)\n",
    "x_train1 = np.concatenate((x_train1, x_train2), axis = 2)\n",
    "\n",
    "mean_x = np.mean(x_train1, axis = 0)\n",
    "std_x = np.std(x_train1, axis = 0)\n",
    "x_1 = (x_train1 - mean_x) / std_x\n",
    "x_test1 = x_test[:, :, 0].reshape(-1, 5, 1)\n",
    "x_test2 = x_train[:, :, 2].reshape(-1, 5, 1)\n",
    "x_t1 = (x_test1 - mean_x) / std_x\n",
    "\n",
    "mean_y = np.mean(y_train)\n",
    "std_y = np.std(y_train)\n",
    "y = (y_train - mean_y) / std_y\n",
    "y_t1 = (y_test - mean_y) / std_y"
   ]
  },
  {
   "cell_type": "code",
   "execution_count": 7,
   "metadata": {},
   "outputs": [],
   "source": [
    "model = Sequential()\n",
    "model.add(LSTM(256, input_shape=(5,2), return_sequences=True))\n",
    "model.add(LSTM(256, return_sequences=True))\n",
    "model.add(TimeDistributed(Dense(1)))\n",
    "model.add(Flatten())\n",
    "model.add(Dense(5,activation='linear'))\n",
    "model.add(Dense(1))\n",
    "model.compile(loss=\"mse\", optimizer=\"adam\")\n"
   ]
  },
  {
   "cell_type": "code",
   "execution_count": 8,
   "metadata": {},
   "outputs": [],
   "source": [
    "# model = Sequential()\n",
    "# model.add(LSTM(128, return_sequences=True,input_shape=(5,6)))\n",
    "# model.add(Dropout(0.4))\n",
    "# model.add(LSTM(128))\n",
    "# model.add(Dropout(0.4))\n",
    "# model.add(Dense(1, activation='linear'))\n",
    "\n",
    "# model.summary()\n",
    "# model.compile(optimizer='adam',loss='mse')#, metrics=['mse'])\n"
   ]
  },
  {
   "cell_type": "code",
   "execution_count": 9,
   "metadata": {
    "scrolled": true
   },
   "outputs": [
    {
     "name": "stdout",
     "output_type": "stream",
     "text": [
      "Epoch 1/5\n",
      "3996/3996 [==============================] - 2s 496us/step - loss: 0.1817\n",
      "Epoch 2/5\n",
      "3996/3996 [==============================] - 1s 186us/step - loss: 0.0196\n",
      "Epoch 3/5\n",
      "3996/3996 [==============================] - 1s 181us/step - loss: 0.0070\n",
      "Epoch 4/5\n",
      "3996/3996 [==============================] - 1s 182us/step - loss: 0.0043\n",
      "Epoch 5/5\n",
      "3996/3996 [==============================] - 1s 181us/step - loss: 0.0038\n"
     ]
    }
   ],
   "source": [
    "filepath=\"weights.{epoch:02d}-{val_acc:.5f}.h5\"\n",
    "output_path = 'predict_rnn2_{val_acc:.5f}.csv'\n",
    "checkpoint = ModelCheckpoint(filepath, monitor='val_acc', \n",
    "                             verbose=1, save_best_only=True)\n",
    "\n",
    "early_stop = EarlyStopping(monitor = 'val_acc', patience=1, verbose=1)\n",
    "callbacks_list = [checkpoint, early_stop]\n",
    "history = model.fit(x_1, y,\n",
    "                batch_size = batch, \n",
    "                epochs = 5)\n",
    "                #validation_split = 0.1,\n",
    "                #callbacks = callbacks_list)"
   ]
  },
  {
   "cell_type": "code",
   "execution_count": 10,
   "metadata": {},
   "outputs": [
    {
     "name": "stdout",
     "output_type": "stream",
     "text": [
      "444/444 [==============================] - 0s 544us/step\n"
     ]
    },
    {
     "data": {
      "text/plain": [
       "0.00335519694983288"
      ]
     },
     "execution_count": 10,
     "metadata": {},
     "output_type": "execute_result"
    }
   ],
   "source": [
    "model.evaluate(x_t1, y_t1)"
   ]
  },
  {
   "cell_type": "code",
   "execution_count": 11,
   "metadata": {},
   "outputs": [],
   "source": [
    "y_pred = model.predict(x_t1)"
   ]
  },
  {
   "cell_type": "code",
   "execution_count": 12,
   "metadata": {},
   "outputs": [
    {
     "name": "stdout",
     "output_type": "stream",
     "text": [
      "9.119543492701098\n"
     ]
    }
   ],
   "source": [
    "result = y_pred * std_y + mean_y\n",
    "error = mean_squared_error(y_test, result)\n",
    "print(error)"
   ]
  },
  {
   "cell_type": "code",
   "execution_count": 13,
   "metadata": {},
   "outputs": [],
   "source": [
    "import pickle\n",
    "with open('lstm.pickle', 'wb') as handle: # saving the history of the model\n",
    "    pickle.dump(history.history, handle)"
   ]
  },
  {
   "cell_type": "code",
   "execution_count": null,
   "metadata": {},
   "outputs": [],
   "source": []
  }
 ],
 "metadata": {
  "kernelspec": {
   "display_name": "Python 3",
   "language": "python",
   "name": "python3"
  },
  "language_info": {
   "codemirror_mode": {
    "name": "ipython",
    "version": 3
   },
   "file_extension": ".py",
   "mimetype": "text/x-python",
   "name": "python",
   "nbconvert_exporter": "python",
   "pygments_lexer": "ipython3",
   "version": "3.6.3"
  }
 },
 "nbformat": 4,
 "nbformat_minor": 2
}
